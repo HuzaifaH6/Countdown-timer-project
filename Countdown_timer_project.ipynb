{
  "nbformat": 4,
  "nbformat_minor": 0,
  "metadata": {
    "colab": {
      "provenance": [],
      "authorship_tag": "ABX9TyPvADaWxCyNAypcC5gykPWE",
      "include_colab_link": true
    },
    "kernelspec": {
      "name": "python3",
      "display_name": "Python 3"
    },
    "language_info": {
      "name": "python"
    }
  },
  "cells": [
    {
      "cell_type": "markdown",
      "metadata": {
        "id": "view-in-github",
        "colab_type": "text"
      },
      "source": [
        "<a href=\"https://colab.research.google.com/github/HuzaifaH6/Countdown-timer-project/blob/main/Countdown_timer_project.ipynb\" target=\"_parent\"><img src=\"https://colab.research.google.com/assets/colab-badge.svg\" alt=\"Open In Colab\"/></a>"
      ]
    },
    {
      "cell_type": "code",
      "execution_count": null,
      "metadata": {
        "id": "Pl6y7VHBqhUx"
      },
      "outputs": [],
      "source": [
        "import time\n",
        "\n",
        "def countdown_timer(seconds):\n",
        "    while seconds >= 0:\n",
        "        mins, secs = divmod(seconds, 60)\n",
        "        timer = f\"{mins:02d}:{secs:02d}\"\n",
        "        print(timer)\n",
        "        time.sleep(1)\n",
        "        seconds -= 1\n",
        "    print(\"\\nTime's up!\")\n",
        "\n",
        "# Handle invalid inputs\n",
        "try:\n",
        "    time_in_seconds = int(input(\"Enter countdown time in seconds: \"))\n",
        "    countdown_timer(time_in_seconds)\n",
        "except ValueError:\n",
        "    print(\"Please enter a valid number.\")\n",
        "\n"
      ]
    }
  ]
}